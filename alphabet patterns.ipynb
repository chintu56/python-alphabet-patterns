{
 "cells": [
  {
   "cell_type": "code",
   "execution_count": 6,
   "id": "a3261a19-2ba7-43e0-b3e6-db712ee85196",
   "metadata": {},
   "outputs": [
    {
     "name": "stdout",
     "output_type": "stream",
     "text": [
      "  * * *   \n",
      "*       * \n",
      "*       * \n",
      "* * * * * \n",
      "*       * \n",
      "*       * \n",
      "*       * \n"
     ]
    }
   ],
   "source": [
    "for row in range(7):\n",
    "    for col in range(5):\n",
    "        if ((col==0 or col==4 ) and row!=0) or ((row==0 or row==3) and (col>0 and  col<4)):\n",
    "            print(\"*\",end=\" \")\n",
    "        else:\n",
    "            print(\" \",end=\" \")\n",
    "    print()"
   ]
  },
  {
   "cell_type": "code",
   "execution_count": 8,
   "id": "eede617e-80f8-46a9-853a-6f246e17c1e8",
   "metadata": {},
   "outputs": [
    {
     "name": "stdout",
     "output_type": "stream",
     "text": [
      "* * * *   \n",
      "*       * \n",
      "*       * \n",
      "* * * *   \n",
      "*       * \n",
      "*       * \n",
      "* * * *   \n"
     ]
    }
   ],
   "source": [
    "for row in range(7):\n",
    "    for col in range(5):\n",
    "        if col==0 or (col==4 and (row!=0 and row!=3 and row!=6 )) or((row==0 or row==3 or row==6) and (col>0 and col<4)):\n",
    "            print(\"*\",end=\" \")\n",
    "        else:\n",
    "            print(\" \",end=\" \")\n",
    "    print()"
   ]
  },
  {
   "cell_type": "markdown",
   "id": "bff775ff-53f2-4311-8363-cb4731b0342d",
   "metadata": {},
   "source": [
    "for row in range(7):\n",
    "    for col in range(5):\n",
    "        if (col==0 and (row!=0 and row!=6)) or ((row==0 or row==6) and (col>0)):\n",
    "            print(\"*\",end=\" \")\n",
    "        else:\n",
    "            print(\" \",end=\" \")\n",
    "    print()"
   ]
  },
  {
   "cell_type": "code",
   "execution_count": 11,
   "id": "36745bd6-5b57-4196-b74a-6d2ed24a7383",
   "metadata": {},
   "outputs": [
    {
     "name": "stdout",
     "output_type": "stream",
     "text": [
      "  * * * * \n",
      "*         \n",
      "*         \n",
      "*         \n",
      "*         \n",
      "*         \n",
      "  * * * * \n"
     ]
    }
   ],
   "source": [
    "for row in range(7):\n",
    "    for col in range(5):\n",
    "        if (col==0 and (row!=0 and row!=6)) or ((row==0 or row==6) and (col>0)):\n",
    "            print(\"*\",end=\" \")\n",
    "        else:\n",
    "            print(\" \",end=\" \")\n",
    "    print()"
   ]
  },
  {
   "cell_type": "code",
   "execution_count": 13,
   "id": "a73b4311-1bf9-4f3d-a14a-d2db697f9844",
   "metadata": {},
   "outputs": [
    {
     "name": "stdout",
     "output_type": "stream",
     "text": [
      "* * * *   \n",
      "*       * \n",
      "*       * \n",
      "*       * \n",
      "*       * \n",
      "*       * \n",
      "* * * *   \n"
     ]
    }
   ],
   "source": [
    "for row in range(7):\n",
    "    for col in range(5):\n",
    "        if col==0 or (col==4 and (row!=0 and row!=6)) or ((row==0 or row==6) and (col<4)):\n",
    "            print(\"*\",end=\" \")\n",
    "        else:\n",
    "            print(\" \",end=\" \")\n",
    "    print()"
   ]
  },
  {
   "cell_type": "code",
   "execution_count": 15,
   "id": "18a594cd-d337-4b1a-bbe3-0129684307f3",
   "metadata": {},
   "outputs": [
    {
     "name": "stdout",
     "output_type": "stream",
     "text": [
      "* * * * * \n",
      "*         \n",
      "*         \n",
      "* * * * * \n",
      "*         \n",
      "*         \n",
      "* * * * * \n"
     ]
    }
   ],
   "source": [
    "for row in range(7):\n",
    "    for col in range(5):\n",
    "        if col==0 or row==0 or row==3 or row==6:\n",
    "            print(\"*\",end=\" \")\n",
    "        else:\n",
    "            print(\" \",end=\" \")\n",
    "    print()"
   ]
  },
  {
   "cell_type": "code",
   "execution_count": 16,
   "id": "62fa0beb-46ac-4151-b5ae-5037268ef524",
   "metadata": {},
   "outputs": [
    {
     "name": "stdout",
     "output_type": "stream",
     "text": [
      "* * * * * \n",
      "*         \n",
      "*         \n",
      "* * * * * \n",
      "*         \n",
      "*         \n",
      "*         \n"
     ]
    }
   ],
   "source": [
    "for row in range(7):\n",
    "    for col in range(5):\n",
    "        if col==0 or row==0 or row==3:\n",
    "            print(\"*\",end=\" \")\n",
    "        else:\n",
    "            print(\" \",end=\" \")\n",
    "    print()"
   ]
  },
  {
   "cell_type": "code",
   "execution_count": 18,
   "id": "50b92de1-2d9e-4d73-be9a-1dde3571a525",
   "metadata": {},
   "outputs": [
    {
     "name": "stdout",
     "output_type": "stream",
     "text": [
      "  * * *   \n",
      "*         \n",
      "*         \n",
      "*   * * * \n",
      "*       * \n",
      "*       * \n",
      "  * * * * \n"
     ]
    }
   ],
   "source": [
    "for row in range(7):\n",
    "    for col in range(5):\n",
    "        if (col==0 and (row!=0 and row!=6)) or (col==4 and (row!=0 and row!=1 and  row!=2)) or ((row==0 or row==6) and (col>0 and col<4)) or (row==3 and (col!=0 and col!=1)):\n",
    "            print(\"*\",end=\" \")\n",
    "        else:\n",
    "            print(\" \",end=\" \")\n",
    "    print()"
   ]
  },
  {
   "cell_type": "code",
   "execution_count": 19,
   "id": "246114d7-7464-4baf-a201-63625044087b",
   "metadata": {},
   "outputs": [
    {
     "name": "stdout",
     "output_type": "stream",
     "text": [
      "*       * \n",
      "*       * \n",
      "*       * \n",
      "* * * * * \n",
      "*       * \n",
      "*       * \n",
      "*       * \n"
     ]
    }
   ],
   "source": [
    "for row in range(7):\n",
    "    for col in range(5):\n",
    "        if col==0 or col==4 or row==3:\n",
    "            print(\"*\",end=\" \")\n",
    "        else:\n",
    "            print(\" \",end=\" \")\n",
    "    print()"
   ]
  },
  {
   "cell_type": "code",
   "execution_count": 20,
   "id": "04dc09b3-ab9b-4fe7-8591-84601cfbcac1",
   "metadata": {},
   "outputs": [
    {
     "name": "stdout",
     "output_type": "stream",
     "text": [
      "* * * * * \n",
      "    *     \n",
      "    *     \n",
      "    *     \n",
      "    *     \n",
      "    *     \n",
      "* * * * * \n"
     ]
    }
   ],
   "source": [
    "for row in range(7):\n",
    "    for col in range(5):\n",
    "        if row==0 or row==6 or col==2:\n",
    "            print(\"*\",end=\" \")\n",
    "        else:\n",
    "            print(\" \",end=\" \")\n",
    "    print()"
   ]
  },
  {
   "cell_type": "code",
   "execution_count": 25,
   "id": "0f3923d8-e78a-4834-9aa1-b4c7b7005006",
   "metadata": {},
   "outputs": [
    {
     "name": "stdout",
     "output_type": "stream",
     "text": [
      "* * * * * \n",
      "    *     \n",
      "    *     \n",
      "    *     \n",
      "    *     \n",
      "    *     \n",
      "* *       \n"
     ]
    }
   ],
   "source": [
    "for row in range(7):\n",
    "    for col in range(5):\n",
    "        if row==0 or (col==2 and (row!=6)) or (row==6 and (col<2)):\n",
    "            print(\"*\",end=\" \")\n",
    "        else:\n",
    "            print(\" \",end=\" \")\n",
    "    print()"
   ]
  },
  {
   "cell_type": "code",
   "execution_count": 29,
   "id": "0c5a9582-0ac2-4225-a6ad-c4a79f9b1cdb",
   "metadata": {},
   "outputs": [
    {
     "name": "stdout",
     "output_type": "stream",
     "text": [
      "*       * \n",
      "*     *   \n",
      "*   *     \n",
      "* *       \n",
      "*   *     \n",
      "*     *   \n",
      "*       * \n"
     ]
    }
   ],
   "source": [
    "for row in range(7):\n",
    "    for col in range(5):\n",
    "        if col==0 or (col==row-2 and row>3) or (col==5-row-1 and row<=3):\n",
    "            print(\"*\",end=\" \")\n",
    "        else:\n",
    "            print(\" \",end=\" \")\n",
    "    print()"
   ]
  },
  {
   "cell_type": "code",
   "execution_count": 30,
   "id": "13ec9064-9afe-499c-9921-221c77ca15d7",
   "metadata": {},
   "outputs": [
    {
     "name": "stdout",
     "output_type": "stream",
     "text": [
      "*         \n",
      "*         \n",
      "*         \n",
      "*         \n",
      "*         \n",
      "*         \n",
      "* * * * * \n"
     ]
    }
   ],
   "source": [
    "for row in range(7):\n",
    "    for col in range(5):\n",
    "        if col==0 or row==6:\n",
    "            print(\"*\",end=\" \")\n",
    "        else:\n",
    "            print(\" \",end=\" \")\n",
    "    print()"
   ]
  },
  {
   "cell_type": "code",
   "execution_count": 31,
   "id": "0a6b5db5-ee92-4120-86ce-25ab87a59068",
   "metadata": {},
   "outputs": [
    {
     "name": "stdout",
     "output_type": "stream",
     "text": [
      "*       * \n",
      "* *   * * \n",
      "*   *   * \n",
      "*       * \n",
      "*       * \n",
      "*       * \n",
      "*       * \n"
     ]
    }
   ],
   "source": [
    "for row in range(7):\n",
    "    for col in range(5):\n",
    "        if col==0 or col==4 or ((col==row) and col<3) or (row==1 and col==3):\n",
    "            print(\"*\",end=\" \")\n",
    "        else:\n",
    "            print(\" \",end=\" \")\n",
    "    print()"
   ]
  },
  {
   "cell_type": "code",
   "execution_count": 59,
   "id": "a452b946-e204-4ff4-8f8d-2035c46ce21a",
   "metadata": {},
   "outputs": [
    {
     "name": "stdout",
     "output_type": "stream",
     "text": [
      "*       * \n",
      "* *     * \n",
      "*   *   * \n",
      "*     * * \n",
      "*       * \n",
      "*       * \n",
      "*       * \n"
     ]
    }
   ],
   "source": [
    "for row in range(7):\n",
    "    for col in range(5):\n",
    "        if col==0 or col==4 or row==col:\n",
    "            print(\"*\",end=\" \")\n",
    "        else:\n",
    "            print(\" \",end=\" \")\n",
    "    print()"
   ]
  },
  {
   "cell_type": "code",
   "execution_count": 33,
   "id": "a0c67881-1872-44d7-8615-c9ff49cf4bff",
   "metadata": {},
   "outputs": [
    {
     "name": "stdout",
     "output_type": "stream",
     "text": [
      "  * * *   \n",
      "*       * \n",
      "*       * \n",
      "*       * \n",
      "*       * \n",
      "*       * \n",
      "  * * *   \n"
     ]
    }
   ],
   "source": [
    "for row in range(7):\n",
    "    for col in range(5):\n",
    "        if (col==0 and (row!=0 and row!=6)) or (col==4 and (row!=0 and row!=6)) or ((row==0 or row==6) and (col>0 and col<4)):\n",
    "            print(\"*\",end=\" \")\n",
    "        else:\n",
    "            print(\" \",end=\" \")\n",
    "    print()"
   ]
  },
  {
   "cell_type": "code",
   "execution_count": 40,
   "id": "21534817-0a2a-43dc-82d2-292a090bce5d",
   "metadata": {},
   "outputs": [
    {
     "name": "stdout",
     "output_type": "stream",
     "text": [
      "* * * *   \n",
      "*       * \n",
      "*       * \n",
      "* * * *   \n",
      "*         \n",
      "*         \n",
      "*         \n"
     ]
    }
   ],
   "source": [
    "for row in range(7):\n",
    "    for col in range(5):\n",
    "        if col==0  or (col==4 and (row==1 or row==2)) or ((row==0 or row==3) and (col>0 and col<4)):\n",
    "            print(\"*\",end=\" \")\n",
    "        else:\n",
    "            print(\" \",end=\" \")\n",
    "    print()"
   ]
  },
  {
   "cell_type": "code",
   "execution_count": 3,
   "id": "aadde385-071f-4e33-aa97-68318c8db720",
   "metadata": {},
   "outputs": [
    {
     "name": "stdout",
     "output_type": "stream",
     "text": [
      "  * * *   \n",
      "*       * \n",
      "*       * \n",
      "*       * \n",
      "*       * \n",
      "*     * * \n",
      "  * * *   \n"
     ]
    }
   ],
   "source": [
    "for row in range(7):\n",
    "    for col in range(5):\n",
    "        if (col==0 and (row!=0 and row!=6)) or (col==4 and (row!=0 and row!=6)) or ((row==0 or row==6) and (col>0 and col<4)) or (row==5 and (col==3)):\n",
    "            print(\"*\",end=\" \")\n",
    "        else:\n",
    "            print(\" \",end=\" \")\n",
    "    print()"
   ]
  },
  {
   "cell_type": "code",
   "execution_count": 42,
   "id": "96045e70-139b-4f72-828e-cd4708e4b5c8",
   "metadata": {},
   "outputs": [
    {
     "name": "stdout",
     "output_type": "stream",
     "text": [
      "* * * *   \n",
      "*       * \n",
      "*       * \n",
      "* * * *   \n",
      "*       * \n",
      "*       * \n",
      "*       * \n"
     ]
    }
   ],
   "source": [
    "for row in range(7):\n",
    "    for col in range(5):\n",
    "        if col==0 or (col==4 and (row!=0 and row!=3)) or ((row==0 or row==3) and (col>0 and col<4)):\n",
    "            print(\"*\",end=\" \")\n",
    "        else:\n",
    "            print(\" \",end=\" \")\n",
    "    print()"
   ]
  },
  {
   "cell_type": "code",
   "execution_count": 46,
   "id": "9236170a-4eea-43dc-89f8-02d17814bcfc",
   "metadata": {},
   "outputs": [
    {
     "name": "stdout",
     "output_type": "stream",
     "text": [
      "  * * * * \n",
      "*         \n",
      "*         \n",
      "  * * *   \n",
      "        * \n",
      "        * \n",
      "* * * *   \n"
     ]
    }
   ],
   "source": [
    "for row in range(7):\n",
    "    for col in range(5):\n",
    "        if (col==0 and (row==1 or row==2)) or (col==4 and (row==4 or row==5)) or (row==0 and col>0) or (row==3 and (col==1 or col==2 or col==3)) or  (row==6 and col<4):\n",
    "            print(\"*\",end=\" \")\n",
    "        else:\n",
    "            print(\" \",end=\" \")\n",
    "    print()"
   ]
  },
  {
   "cell_type": "code",
   "execution_count": 47,
   "id": "22215fc6-31c6-41e5-921a-ddf234b9348a",
   "metadata": {},
   "outputs": [
    {
     "name": "stdout",
     "output_type": "stream",
     "text": [
      "* * * * * \n",
      "    *     \n",
      "    *     \n",
      "    *     \n",
      "    *     \n",
      "    *     \n",
      "    *     \n"
     ]
    }
   ],
   "source": [
    "for row in range(7):\n",
    "    for col in range(5):\n",
    "        if row==0 or col==2:\n",
    "            print(\"*\",end=\" \")\n",
    "        else:\n",
    "            print(\" \",end=\" \")\n",
    "    print()"
   ]
  },
  {
   "cell_type": "code",
   "execution_count": 48,
   "id": "7201ec7b-16f5-4a19-88bb-396ec9302390",
   "metadata": {},
   "outputs": [
    {
     "name": "stdout",
     "output_type": "stream",
     "text": [
      "*       * \n",
      "*       * \n",
      "*       * \n",
      "*       * \n",
      "*       * \n",
      "*       * \n",
      "  * * *   \n"
     ]
    }
   ],
   "source": [
    "for row in range(7):\n",
    "    for col in range(5):\n",
    "        if ((col==0 or col==4) and row!=6) or (row==6 and (col>0 and col<4)):\n",
    "            print(\"*\",end=\" \")\n",
    "        else:\n",
    "            print(\" \",end=\" \")\n",
    "    print()"
   ]
  },
  {
   "cell_type": "code",
   "execution_count": 50,
   "id": "3cf3c16b-102c-4337-a04b-caee81349a71",
   "metadata": {},
   "outputs": [
    {
     "name": "stdout",
     "output_type": "stream",
     "text": [
      "*       * \n",
      "*       * \n",
      "*       * \n",
      "*       * \n",
      "*       * \n",
      "  *   *   \n",
      "    *     \n"
     ]
    }
   ],
   "source": [
    "for row in range(7):\n",
    "    for col in range(5):\n",
    "        if ((col==0  or col==4) and row<5) or (row==5 and (col==1 or col==3)) or (row==6 and col==2):\n",
    "            print(\"*\",end=\" \")\n",
    "        else:\n",
    "            print(\" \",end=\" \")\n",
    "    print()"
   ]
  },
  {
   "cell_type": "code",
   "execution_count": 53,
   "id": "9305ee40-e43f-4b40-a8d5-a0a956ac6d44",
   "metadata": {},
   "outputs": [
    {
     "name": "stdout",
     "output_type": "stream",
     "text": [
      "*       * \n",
      "*       * \n",
      "*       * \n",
      "*       * \n",
      "*   *   * \n",
      "* *   * * \n",
      "*       * \n"
     ]
    }
   ],
   "source": [
    "for row in range(7):\n",
    "    for col in range(5):\n",
    "        if col==0 or col==4 or (row==5 and (col==1 or col==3)) or (row==4 and col==2):\n",
    "            print(\"*\",end=\" \")\n",
    "        else:\n",
    "            print(\" \",end=\" \")\n",
    "    print()"
   ]
  },
  {
   "cell_type": "code",
   "execution_count": 54,
   "id": "d5907f83-7228-44d5-b0c6-55e0eb6e0402",
   "metadata": {},
   "outputs": [
    {
     "name": "stdout",
     "output_type": "stream",
     "text": [
      "*       * \n",
      "  *   *   \n",
      "    *     \n",
      "  *   *   \n",
      "*       * \n",
      "          \n",
      "          \n"
     ]
    }
   ],
   "source": [
    "for row in range(7):\n",
    "    for col in range(5):\n",
    "        if col==row or col+row == 4:\n",
    "            print(\"*\",end=\" \")\n",
    "        else:\n",
    "            print(\" \",end=\" \")\n",
    "    print()"
   ]
  },
  {
   "cell_type": "code",
   "execution_count": 55,
   "id": "0620bd21-be33-4786-9405-ceeae6b2927c",
   "metadata": {},
   "outputs": [
    {
     "name": "stdout",
     "output_type": "stream",
     "text": [
      "*       * \n",
      "  *   *   \n",
      "    *     \n",
      "    *     \n",
      "    *     \n",
      "    *     \n",
      "    *     \n"
     ]
    }
   ],
   "source": [
    "for row in range(7):\n",
    "    for col in range(5):\n",
    "        if ((col==row  or col+row==4) and row<3 ) or (col==2 and row>2):\n",
    "            print(\"*\",end=\" \")\n",
    "        else:\n",
    "            print(\" \",end=\" \")\n",
    "    print()"
   ]
  },
  {
   "cell_type": "code",
   "execution_count": 57,
   "id": "f068c657-2337-4825-9d5e-cbb58a715051",
   "metadata": {},
   "outputs": [
    {
     "name": "stdout",
     "output_type": "stream",
     "text": [
      "* * * * * \n",
      "        * \n",
      "      *   \n",
      "    *     \n",
      "  *       \n",
      "*         \n",
      "* * * * * \n"
     ]
    }
   ],
   "source": [
    "for row in range(7):\n",
    "    for col in range(5):\n",
    "        if row==0 or row==6 or col+row==5:\n",
    "            print(\"*\",end=\" \")\n",
    "        else:\n",
    "            print(\" \",end=\" \")\n",
    "    print()"
   ]
  },
  {
   "cell_type": "code",
   "execution_count": 5,
   "id": "29844cc5-d3fc-4d07-b12e-f027576acb79",
   "metadata": {},
   "outputs": [
    {
     "name": "stdout",
     "output_type": "stream",
     "text": [
      "Enter the name: BHARATH KUNAR\n"
     ]
    },
    {
     "name": "stdout",
     "output_type": "stream",
     "text": [
      "Invalid\n",
      "* * * *    *       *    * * *    * * * *      * * *    * * * * *  *       *  *       *  *       *  *       *    * * *    * * * *    \n",
      "*       *  *       *  *       *  *       *  *       *      *      *       *  *     *    *       *  * *     *  *       *  *       *  \n",
      "*       *  *       *  *       *  *       *  *       *      *      *       *  *   *      *       *  *   *   *  *       *  *       *  \n",
      "* * * *    * * * * *  * * * * *  * * * *    * * * * *      *      * * * * *  * *        *       *  *     * *  * * * * *  * * * *    \n",
      "*       *  *       *  *       *  *       *  *       *      *      *       *  *   *      *       *  *       *  *       *  *       *  \n",
      "*       *  *       *  *       *  *       *  *       *      *      *       *  *     *    *       *  *       *  *       *  *       *  \n",
      "* * * *    *       *  *       *  *       *  *       *      *      *       *  *       *    * * *    *       *  *       *  *       *  \n"
     ]
    }
   ],
   "source": [
    "def patterns():\n",
    "    for i in range(len(name)):\n",
    "        #A\n",
    "        if name[i]==\"A\":\n",
    "            print_A=[[\" \" for i in range(5)] for j in range(7)]\n",
    "            for row in range(7):\n",
    "                for col in range(5):\n",
    "                    if ((col==0 or col==4 ) and row!=0) or ((row==0 or row==3) and (col>0 and  col<4)):\n",
    "                        print_A[row][col] = \"*\"\n",
    "            list2.append(print_A)\n",
    "        # B\n",
    "        elif name[i]==\"B\":\n",
    "            print_B=[[\" \" for i in range(5)] for j in range(7)]\n",
    "            for row in range(7):\n",
    "                for col in range(5):\n",
    "                    if col==0 or (col==4 and (row!=0 and row!=3 and row!=6 )) or((row==0 or row==3 or row==6) and (col>0 and col<4)):\n",
    "                        print_B[row][col] = \"*\"\n",
    "            list2.append(print_B)\n",
    "        # C \n",
    "        elif name[i]==\"C\":\n",
    "            print_C=[[\" \" for i in range(5)] for j in range(7)]\n",
    "            for row in range(7):\n",
    "                for col in range(5):\n",
    "                    if (col==0 and (row!=0 and row!=6)) or ((row==0 or row==6) and (col>0)):\n",
    "                        print_C[row][col] = \"*\"\n",
    "            list2.append(print_C)\n",
    "        elif name[i]==\"D\":\n",
    "            print_D=[[\" \" for i in range(5)] for j in range(7)]\n",
    "            for row in range(7):\n",
    "                for col in range(5):\n",
    "                    if col==0 or (col==4 and (row!=0 and row!=6)) or ((row==0 or row==6) and (col<4)):\n",
    "                        print_D[row][col] = \"*\"\n",
    "            list2.append(print_D)\n",
    "        elif name[i]==\"E\":\n",
    "            print_E=[[\" \" for i in range(5)] for j in range(7)]\n",
    "            for row in range(7):\n",
    "                for col in range(5):\n",
    "                    if col==0 or row==0 or row==3 or row==6:\n",
    "                        print_E[row][col] = \"*\"\n",
    "            list2.append(print_E)\n",
    "        elif name[i]==\"F\":\n",
    "            print_F=[[\" \" for i in range(5)] for j in range(7)]\n",
    "            for row in range(7):\n",
    "                for col in range(5):\n",
    "                    if col==0 or row==0 or row==3:\n",
    "                        print_F[row][col] = \"*\"\n",
    "            list2.append(print_F)\n",
    "        elif name[i]==\"G\":\n",
    "            print_G=[[\" \" for i in range(5)] for j in range(7)]\n",
    "            for row in range(7):\n",
    "                for col in range(5):\n",
    "                    if (col==0 and (row!=0 and row!=6)) or (col==4 and (row!=0 and row!=1 and  row!=2)) or ((row==0 or row==6) and (col>0 and col<4)) or (row==3 and (col!=0 and col!=1)):\n",
    "                        print_G[row][col] = \"*\"\n",
    "            list2.append(print_G)\n",
    "        elif name[i]==\"H\":\n",
    "            print_H=[[\" \" for i in range(5)] for j in range(7)]\n",
    "            for row in range(7):\n",
    "                for col in range(5):\n",
    "                    if col==0 or col==4 or row==3:\n",
    "                        print_H[row][col] = \"*\"\n",
    "            list2.append(print_H)\n",
    "        elif name[i]==\"I\":\n",
    "            print_I=[[\" \" for i in range(5)] for j in range(7)]\n",
    "            for row in range(7):\n",
    "                for col in range(5):\n",
    "                    if row==0 or row==6 or col==2:\n",
    "                        print_I[row][col] = \"*\"\n",
    "            list2.append(print_I)\n",
    "        elif name[i]==\"J\":\n",
    "            print_J=[[\" \" for i in range(5)] for j in range(7)]\n",
    "            for row in range(7):\n",
    "                for col in range(5):\n",
    "                    if row==0 or (col==2 and (row!=6)) or (row==6 and (col<2)):\n",
    "                        print_J[row][col] = \"*\"\n",
    "            list2.append(print_J)\n",
    "        elif name[i]==\"K\":\n",
    "            print_K=[[\" \" for i in range(5)] for j in range(7)]\n",
    "            for row in range(7):\n",
    "                for col in range(5):\n",
    "                    if col==0 or (col==row-2 and row>3) or (col==5-row-1 and row<=3):\n",
    "                        print_K[row][col] = \"*\"\n",
    "            list2.append(print_K)\n",
    "        elif name[i]==\"L\":\n",
    "            print_L=[[\" \" for i in range(5)] for j in range(7)]\n",
    "            for row in range(7):\n",
    "                for col in range(5):\n",
    "                    if col==0 or row==6:\n",
    "                        print_L[row][col] = \"*\"\n",
    "            list2.append(print_L)\n",
    "        elif name[i]==\"M\":\n",
    "            print_M=[[\" \" for i in range(5)] for j in range(7)]\n",
    "            for row in range(7):\n",
    "                for col in range(5):\n",
    "                    if col==0 or col==4 or ((col==row) and col<3) or (row==1 and col==3):\n",
    "                        print_M[row][col] = \"*\"\n",
    "            list2.append(print_M)\n",
    "        elif name[i]==\"N\":\n",
    "            print_N=[[\" \" for i in range(5)] for j in range(7)]\n",
    "            for row in range(7):\n",
    "                for col in range(5):\n",
    "                    if col==0 or col==4 or col==row:\n",
    "                        print_N[row][col] = \"*\"\n",
    "            list2.append(print_N)\n",
    "        elif name[i]==\"O\":\n",
    "            print_O=[[\" \" for i in range(5)] for j in range(7)]\n",
    "            for row in range(7):\n",
    "                for col in range(5):\n",
    "                    if (col==0 and (row!=0 and row!=6)) or (col==4 and (row!=0 and row!=6)) or ((row==0 or row==6) and (col>0 and col<4)):\n",
    "                        print_O[row][col] = \"*\"\n",
    "            list2.append(print_O)\n",
    "        elif name[i]==\"P\":\n",
    "            print_P=[[\" \" for i in range(5)] for j in range(7)]\n",
    "            for row in range(7):\n",
    "                for col in range(5):\n",
    "                    if col==0  or (col==4 and (row==1 or row==2)) or ((row==0 or row==3) and (col>0 and col<4)):\n",
    "                        print_P[row][col] = \"*\"\n",
    "            list2.append(print_P)\n",
    "        elif name[i]==\"Q\":\n",
    "            print_Q=[[\" \" for i in range(5)] for j in range(7)]\n",
    "            for row in range(7):\n",
    "                for col in range(5):\n",
    "                    if (col==0 and (row!=0 and row!=6)) or (col==4 and (row!=0 and row!=6)) or ((row==0 or row==6) and (col>0 and col<4)) or (row==5 and (col==3)):\n",
    "                        print_Q[row][col] = \"*\"\n",
    "            list2.append(print_Q)\n",
    "        elif name[i]==\"R\":\n",
    "            print_R=[[\" \" for i in range(5)] for j in range(7)]\n",
    "            for row in range(7):\n",
    "                for col in range(5):\n",
    "                    if col==0 or (col==4 and (row!=0 and row!=3)) or ((row==0 or row==3) and (col>0 and col<4)):\n",
    "                        print_R[row][col] = \"*\"\n",
    "            list2.append(print_R)\n",
    "        elif name[i]==\"S\":\n",
    "            print_S=[[\" \" for i in range(5)] for j in range(7)]\n",
    "            for row in range(7):\n",
    "                for col in range(5):\n",
    "                    if (col==0 and (row==1 or row==2)) or (col==4 and (row==4 or row==5)) or (row==0 and col>0) or (row==3 and (col==1 or col==2 or col==3)) or  (row==6 and col<4):\n",
    "                        print_S[row][col] = \"*\"\n",
    "            list2.append(print_S)\n",
    "        elif name[i]==\"T\":\n",
    "            print_T=[[\" \" for i in range(5)] for j in range(7)]\n",
    "            for row in range(7):\n",
    "                for col in range(5):\n",
    "                    if row==0 or col==2:\n",
    "                        print_T[row][col] = \"*\"\n",
    "            list2.append(print_T)\n",
    "        elif name[i]==\"U\":\n",
    "            print_U=[[\" \" for i in range(5)] for j in range(7)]\n",
    "            for row in range(7):\n",
    "                for col in range(5):\n",
    "                    if ((col==0 or col==4) and row!=6) or (row==6 and (col>0 and col<4)):\n",
    "                        print_U[row][col] = \"*\"\n",
    "            list2.append(print_U)\n",
    "        elif name[i]==\"V\":\n",
    "            print_V=[[\" \" for i in range(5)] for j in range(7)]\n",
    "            for row in range(7):\n",
    "                for col in range(5):\n",
    "                    if ((col==0  or col==4) and row<5) or (row==5 and (col==1 or col==3)) or (row==6 and col==2):\n",
    "                        print_V[row][col] = \"*\"\n",
    "            list2.append(print_V)\n",
    "        elif name[i]==\"W\":\n",
    "            print_W=[[\" \" for i in range(5)] for j in range(7)]\n",
    "            for row in range(7):\n",
    "                for col in range(5):\n",
    "                    if col==0 or col==4 or (row==5 and (col==1 or col==3)) or (row==4 and col==2):\n",
    "                        print_W[row][col] = \"*\"\n",
    "            list2.append(print_W)\n",
    "        elif name[i]==\"X\":\n",
    "            print_X=[[\" \" for i in range(5)] for j in range(7)]\n",
    "            for row in range(7):\n",
    "                for col in range(5):\n",
    "                    if col==row or col+row == 4:\n",
    "                        print_X[row][col] = \"*\"\n",
    "            list2.append(print_X)\n",
    "        elif name[i]==\"Y\":\n",
    "            print_Y=[[\" \" for i in range(5)] for j in range(7)]\n",
    "            for row in range(7):\n",
    "                for col in range(5):\n",
    "                    if ((col==row  or col+row==4) and row<3 ) or (col==2 and row>2):\n",
    "                        print_Y[row][col] = \"*\"\n",
    "            list2.append(print_Y)\n",
    "        elif name[i]==\"Z\":\n",
    "            print_Z=[[\" \" for i in range(5)] for j in range(7)]\n",
    "            for row in range(7):\n",
    "                for col in range(5):\n",
    "                    if row==0 or row==6 or col+row==5:\n",
    "                        print_Z[row][col] = \"*\"\n",
    "            list2.append(print_Z)\n",
    "        else:\n",
    "            print(\"Invalid\")\n",
    "    return list2\n",
    "\n",
    "name=input(\"Enter the name:\")\n",
    "list2=[]\n",
    "list3=patterns()\n",
    "for i in range(7):\n",
    "    for j in range(len(list3)):\n",
    "        for k in range(5):\n",
    "            print(list3[j][i][k],end=\" \")\n",
    "        print(end=\" \")\n",
    "    print()\n",
    "        "
   ]
  },
  {
   "cell_type": "code",
   "execution_count": null,
   "id": "5640cbac-2d1c-4ee6-ae88-5d2c614dcca6",
   "metadata": {},
   "outputs": [],
   "source": []
  }
 ],
 "metadata": {
  "kernelspec": {
   "display_name": "Python 3 (ipykernel)",
   "language": "python",
   "name": "python3"
  },
  "language_info": {
   "codemirror_mode": {
    "name": "ipython",
    "version": 3
   },
   "file_extension": ".py",
   "mimetype": "text/x-python",
   "name": "python",
   "nbconvert_exporter": "python",
   "pygments_lexer": "ipython3",
   "version": "3.11.7"
  }
 },
 "nbformat": 4,
 "nbformat_minor": 5
}
